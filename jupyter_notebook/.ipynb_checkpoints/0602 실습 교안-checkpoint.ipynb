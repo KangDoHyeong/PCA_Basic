{
 "cells": [
  {
   "cell_type": "code",
   "execution_count": null,
   "metadata": {},
   "outputs": [],
   "source": [
    "import math\n",
    "import numpy as np\n",
    "import cv2, os\n",
    "import pandas as pd\n",
    "from numpy import linalg as LA\n",
    "from PIL import Image\n",
    "import matplotlib.pyplot as plt"
   ]
  },
  {
   "cell_type": "markdown",
   "metadata": {},
   "source": [
    "# PCA 코드 살펴보기"
   ]
  },
  {
   "cell_type": "markdown",
   "metadata": {},
   "source": [
    "## 1. DATA 불러오기 "
   ]
  },
  {
   "cell_type": "code",
   "execution_count": null,
   "metadata": {},
   "outputs": [],
   "source": [
    "S = []\n",
    "Y = []\n",
    "\n",
    "for name in os.listdir(\"../faces\"):\n",
    "    nameList = os.listdir(\"../faces/%s\"%name)\n",
    "\n",
    "    if len(nameList) <50 : \n",
    "        continue\n",
    "\n",
    "    y = name.replace(\".jpg\",\"\")\n",
    "\n",
    "    count = 0\n",
    "    for i in nameList:\n",
    "        if count == 50 :\n",
    "            break\n",
    "        filePath = \"../faces/%s/%s\"%(name,i)\n",
    "\n",
    "        # decoding path written by korean\n",
    "        stream = open( filePath.encode(\"utf-8\") , \"rb\")\n",
    "        bytes = bytearray(stream.read())\n",
    "        numpyArray = np.asarray(bytes, dtype=np.uint8)\n",
    "        img = cv2.imdecode(numpyArray , cv2.IMREAD_UNCHANGED)\n",
    "\n",
    "        gray = cv2.cvtColor(img, cv2.COLOR_BGR2GRAY)\n",
    "        imgArr = np.array(gray)\n",
    "        temp = np.reshape(imgArr, (150*150))\n",
    "        Y.append(y)\n",
    "        S.append(temp)\n",
    "        count += 1\n",
    "\n",
    "S = np.array(S).T"
   ]
  },
  {
   "cell_type": "markdown",
   "metadata": {},
   "source": [
    "## 2. 히스토그램 평활화"
   ]
  },
  {
   "cell_type": "code",
   "execution_count": null,
   "metadata": {},
   "outputs": [],
   "source": [
    "SS = np.zeros_like(S)\n",
    "for i in range(S.shape[1]):\n",
    "    SS[:,i] = cv2.equalizeHist(S[:,i]).reshape(-1,)"
   ]
  },
  {
   "cell_type": "markdown",
   "metadata": {},
   "source": [
    "## 3. 평균얼굴 구하기"
   ]
  },
  {
   "cell_type": "code",
   "execution_count": null,
   "metadata": {},
   "outputs": [],
   "source": [
    "m = np.mean(SS, axis=1)\n",
    "m = m.reshape(-1, 1) "
   ]
  },
  {
   "cell_type": "markdown",
   "metadata": {},
   "source": [
    "## 4. 차이 벡터 구하기"
   ]
  },
  {
   "cell_type": "code",
   "execution_count": null,
   "metadata": {},
   "outputs": [],
   "source": [
    "D = SS-m"
   ]
  },
  {
   "cell_type": "code",
   "execution_count": null,
   "metadata": {},
   "outputs": [],
   "source": [
    "# 주의 : m = m.reshape(-1) 은 차이벡터 구할 때 오류 발생\n",
    "# column vector 들을 복사해가면서 broadcasting 할 때는, 2-D array 로 만들어줘야 함\n",
    "m = np.mean(SS, axis=1)\n",
    "m = m.reshape(-1) \n",
    "D = SS-m"
   ]
  },
  {
   "cell_type": "markdown",
   "metadata": {},
   "source": [
    "## 5.주성분 구하기\n",
    "## 5-1. D.T × D  의 eigenvalue/ eigenvector 구하기"
   ]
  },
  {
   "cell_type": "code",
   "execution_count": null,
   "metadata": {},
   "outputs": [],
   "source": [
    "L = D.T @ D\n",
    "w, v = LA.eig(L) "
   ]
  },
  {
   "cell_type": "markdown",
   "metadata": {},
   "source": [
    "## 5-2. 0인 eigenvalue 제거"
   ]
  },
  {
   "cell_type": "code",
   "execution_count": null,
   "metadata": {},
   "outputs": [],
   "source": [
    "zero_eigen = [i for i in range(len(w)) if abs(w[i]) <1e-4]\n",
    "j=0\n",
    "for i in zero_eigen:\n",
    "    w = np.delete(w, i-j, axis=0)\n",
    "    v = np.delete(v, i-j, axis=1)\n",
    "    j += 1"
   ]
  },
  {
   "cell_type": "markdown",
   "metadata": {},
   "source": [
    "## 5-3. eigenvalue 내림차순 정렬 - eigenvalue에 해당하는 eigenvector 가져오기"
   ]
  },
  {
   "cell_type": "code",
   "execution_count": null,
   "metadata": {},
   "outputs": [],
   "source": [
    "index = np.argsort(w.real)[::-1] \n",
    "ww = w.real[index]\n",
    "vv = v.real[:,index] "
   ]
  },
  {
   "cell_type": "markdown",
   "metadata": {},
   "source": [
    "## 5-4. 주축의 개수 정하기"
   ]
  },
  {
   "cell_type": "code",
   "execution_count": null,
   "metadata": {},
   "outputs": [],
   "source": [
    "eigenface_num= 20 # 주축의 개수 "
   ]
  },
  {
   "cell_type": "code",
   "execution_count": null,
   "metadata": {},
   "outputs": [],
   "source": [
    "ww = ww[:eigenface_num]\n",
    "vv = vv[:, :eigenface_num]"
   ]
  },
  {
   "cell_type": "markdown",
   "metadata": {},
   "source": [
    "## 5-5. D × D.T 의 eigenvector 구하기"
   ]
  },
  {
   "cell_type": "code",
   "execution_count": null,
   "metadata": {},
   "outputs": [],
   "source": [
    "u = D @ vv\n",
    "u = u/(LA.norm(u, axis=0))"
   ]
  },
  {
   "cell_type": "markdown",
   "metadata": {},
   "source": [
    "## 5-6.  weight 값 찾기"
   ]
  },
  {
   "cell_type": "code",
   "execution_count": null,
   "metadata": {},
   "outputs": [],
   "source": [
    "weight = u.T @ D"
   ]
  },
  {
   "cell_type": "code",
   "execution_count": null,
   "metadata": {},
   "outputs": [],
   "source": [
    "weight[:, 0]"
   ]
  },
  {
   "cell_type": "code",
   "execution_count": null,
   "metadata": {},
   "outputs": [],
   "source": []
  },
  {
   "cell_type": "markdown",
   "metadata": {},
   "source": [
    "# 새로운 data가 왔을 때 코사인 유사도 계산?"
   ]
  },
  {
   "cell_type": "code",
   "execution_count": null,
   "metadata": {},
   "outputs": [],
   "source": [
    "FaceDB_info_df = pd.read_csv(\"../db/FaceDB_info.csv\", index_col=0)\n",
    "FaceDB_info_ar = np.array(FaceDB_info_df)\n",
    "mean_face = FaceDB_info_ar[:, 0].reshape(-1,1)\n",
    "eigenvector = FaceDB_info_ar[:, 1:]"
   ]
  },
  {
   "cell_type": "code",
   "execution_count": null,
   "metadata": {},
   "outputs": [],
   "source": [
    "SID_weight = pd.read_csv(\"../db/FaceDB_SID.csv\", index_col=0)\n",
    "SID_index = list(SID_weight.index)\n",
    "SID_weight = np.array(SID_weight)    "
   ]
  },
  {
   "cell_type": "code",
   "execution_count": null,
   "metadata": {},
   "outputs": [],
   "source": [
    "new_img = cv2.imread(\"../faces/f/6.jpg\", cv2.IMREAD_GRAYSCALE).reshape(-1)"
   ]
  },
  {
   "cell_type": "code",
   "execution_count": null,
   "metadata": {},
   "outputs": [],
   "source": [
    "threshold = 0.5"
   ]
  },
  {
   "cell_type": "code",
   "execution_count": null,
   "metadata": {},
   "outputs": [],
   "source": [
    "img = cv2.equalizeHist(new_img) - mean_face\n",
    "\n",
    "img_weight = np.dot(img.T, eigenvector)\n",
    "#dist1 = np.sqrt(np.sum(img_weight*img_weight))\n",
    "dist1 = LA.norm(img_weight)\n",
    "\n",
    "cosine_list = []\n",
    "for i in range(SID_weight.shape[0]):\n",
    "    #dist2 = np.sqrt(np.sum(SID_weight[i] * SID_weight[i]))\n",
    "    dist2 = LA.norm(SID_weight[i])\n",
    "    cosine_similiarity = np.dot(img_weight, SID_weight[i])/(dist1 * dist2)\n",
    "    cosine_list.append(cosine_similiarity)\n",
    "\n",
    "\n",
    "print(np.max(cosine_list))\n",
    "if np.max(cosine_list)<threshold:          \n",
    "    print(\"None\") \n",
    "else:\n",
    "    SID = SID_index[np.argmax(cosine_list)]\n",
    "    print(SID)"
   ]
  },
  {
   "cell_type": "code",
   "execution_count": null,
   "metadata": {},
   "outputs": [],
   "source": [
    "cosine_list"
   ]
  },
  {
   "cell_type": "code",
   "execution_count": null,
   "metadata": {
    "scrolled": true
   },
   "outputs": [],
   "source": [
    "new_img"
   ]
  },
  {
   "cell_type": "markdown",
   "metadata": {},
   "source": [
    "# mean_face? eigen_face?"
   ]
  },
  {
   "cell_type": "code",
   "execution_count": null,
   "metadata": {
    "scrolled": true
   },
   "outputs": [],
   "source": [
    "plt.imshow(mean_face.reshape(150, 150), cmap='gray')"
   ]
  },
  {
   "cell_type": "code",
   "execution_count": null,
   "metadata": {},
   "outputs": [],
   "source": [
    "for i in range(eigenvector.shape[1]):\n",
    "    plt.figure()\n",
    "    plt.imshow(eigenvector[:,i].reshape(150, 150),  cmap='gray')"
   ]
  },
  {
   "cell_type": "code",
   "execution_count": null,
   "metadata": {
    "scrolled": true
   },
   "outputs": [],
   "source": [
    "# 새로운 이미지일 때 이미지 재건\n",
    "face1 = eigenvector@ img_weight.T + mean_face\n",
    "plt.figure()\n",
    "plt.imshow(face1.reshape(150, 150), cmap='gray')"
   ]
  },
  {
   "cell_type": "code",
   "execution_count": null,
   "metadata": {
    "scrolled": false
   },
   "outputs": [],
   "source": [
    "# weight 값 가지고 이미지 재건\n",
    "face1 = eigenvector@ weight[:, 399] + mean_face.reshape(-1)\n",
    "plt.figure()\n",
    "plt.imshow(face1.reshape(150, 150), cmap='gray')"
   ]
  }
 ],
 "metadata": {
  "kernelspec": {
   "display_name": "Python 3",
   "language": "python",
   "name": "python3"
  },
  "language_info": {
   "codemirror_mode": {
    "name": "ipython",
    "version": 3
   },
   "file_extension": ".py",
   "mimetype": "text/x-python",
   "name": "python",
   "nbconvert_exporter": "python",
   "pygments_lexer": "ipython3",
   "version": "3.7.6"
  }
 },
 "nbformat": 4,
 "nbformat_minor": 4
}
